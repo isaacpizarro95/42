{
  "nbformat": 4,
  "nbformat_minor": 0,
  "metadata": {
    "colab": {
      "name": "Interpolacion_lineal.ipynb",
      "provenance": [],
      "authorship_tag": "ABX9TyMcyaAJgbkc66SyYBHNdcWr",
      "include_colab_link": true
    },
    "kernelspec": {
      "name": "python3",
      "display_name": "Python 3"
    }
  },
  "cells": [
    {
      "cell_type": "markdown",
      "metadata": {
        "id": "view-in-github",
        "colab_type": "text"
      },
      "source": [
        "<a href=\"https://colab.research.google.com/github/isaacpizarro95/42/blob/master/Interpolacion_lineal.ipynb\" target=\"_parent\"><img src=\"https://colab.research.google.com/assets/colab-badge.svg\" alt=\"Open In Colab\"/></a>"
      ]
    },
    {
      "cell_type": "code",
      "metadata": {
        "colab": {
          "base_uri": "https://localhost:8080/",
          "height": 120
        },
        "id": "AbDdZcCYH1a5",
        "outputId": "2a726c0b-7b9f-47bc-d700-a156d806dd93"
      },
      "source": [
        "def interpolacion_lineal():\n",
        "  p1 = []\n",
        "  p2 = []\n",
        "  p1.append(int(input(\"Por favor introduzca la coordenada X del primer punto (X1): \")))\n",
        "  p1.append(int(input(\"Por favor introduzca la coordenada Y del primer punto (Y1): \")))\n",
        "  p2.append(int(input(\"Por favor introduzca la coordenada X del primer punto (X2): \")))\n",
        "  p2.append(int(input(\"Por favor introduzca la coordenada Y del primer punto (Y2): \")))\n",
        "  x = int(input(\"Por favor introduzca la coordenada X del punto que deseamos calcular (X): \"))\n",
        "\n",
        "  y = ((x - p1[0])/(p2[0] - p1[0])) * (p2[1] - p1[1]) + p1[1]\n",
        "  return \"La coordenada Y del punto que deseamos calcular es: \" + str(y)\n",
        "\n",
        "interpolacion_lineal()"
      ],
      "execution_count": 17,
      "outputs": [
        {
          "output_type": "stream",
          "text": [
            "Por favor introduzca la coordenada X del primer punto (X1): 5\n",
            "Por favor introduzca la coordenada Y del primer punto (Y1): 3\n",
            "Por favor introduzca la coordenada X del primer punto (X2): 4\n",
            "Por favor introduzca la coordenada Y del primer punto (Y2): 2\n",
            "Por favor introduzca la coordenada X del punto que deseamos calcular (X): 4\n"
          ],
          "name": "stdout"
        },
        {
          "output_type": "execute_result",
          "data": {
            "application/vnd.google.colaboratory.intrinsic+json": {
              "type": "string"
            },
            "text/plain": [
              "'La coordenada Y del punto que deseamos calcular es: 2.0'"
            ]
          },
          "metadata": {
            "tags": []
          },
          "execution_count": 17
        }
      ]
    },
    {
      "cell_type": "code",
      "metadata": {
        "id": "YNePbWX8LjPY"
      },
      "source": [
        ""
      ],
      "execution_count": null,
      "outputs": []
    }
  ]
}